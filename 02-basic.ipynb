{
 "cells": [
  {
   "cell_type": "code",
   "execution_count": 1,
   "metadata": {},
   "outputs": [
    {
     "name": "stdout",
     "output_type": "stream",
     "text": [
      "这个作业有点东西\n"
     ]
    }
   ],
   "source": [
    "print('这个作业有点东西')"
   ]
  },
  {
   "cell_type": "code",
   "execution_count": 3,
   "metadata": {},
   "outputs": [
    {
     "data": {
      "text/plain": [
       "'\\n多行注释\\n'"
      ]
     },
     "execution_count": 3,
     "metadata": {},
     "output_type": "execute_result"
    }
   ],
   "source": [
    "#单行注释\n",
    "'''\n",
    "多行注释\n",
    "'''"
   ]
  },
  {
   "cell_type": "code",
   "execution_count": 4,
   "metadata": {},
   "outputs": [
    {
     "name": "stdout",
     "output_type": "stream",
     "text": [
      "3+2=5\n",
      "3-2=1\n",
      "3*2=6\n",
      "3/2=1.5\n",
      "3//2=1\n",
      "3**2=9\n",
      "3%2=1\n"
     ]
    }
   ],
   "source": [
    "print(\"3+2=\"+str(3+2))\n",
    "print(\"3-2=\"+str(3-2))\n",
    "print(\"3*2=\"+str(3*2))\n",
    "print(\"3/2=\"+str(3/2))\n",
    "print(\"3//2=\"+str(3//2))\n",
    "print(\"3**2=\"+str(3**2))\n",
    "print(\"3%2=\"+str(3%2))\n",
    "\n",
    "\n"
   ]
  },
  {
   "cell_type": "code",
   "execution_count": 5,
   "metadata": {},
   "outputs": [
    {
     "name": "stdout",
     "output_type": "stream",
     "text": [
      "崆峒派\n",
      "崆峒\n"
     ]
    }
   ],
   "source": [
    "sects=\"崆峒派\"\n",
    "print(sects)\n",
    "门派=\"崆峒\"\n",
    "print(门派)\n"
   ]
  }
 ],
 "metadata": {
  "kernelspec": {
   "display_name": "Python 3",
   "language": "python",
   "name": "python3"
  },
  "language_info": {
   "codemirror_mode": {
    "name": "ipython",
    "version": 3
   },
   "file_extension": ".py",
   "mimetype": "text/x-python",
   "name": "python",
   "nbconvert_exporter": "python",
   "pygments_lexer": "ipython3",
   "version": "3.8.10"
  },
  "orig_nbformat": 4
 },
 "nbformat": 4,
 "nbformat_minor": 2
}
